{
 "cells": [
  {
   "cell_type": "code",
   "execution_count": 1,
   "metadata": {},
   "outputs": [],
   "source": [
    "import sqlite3 as sql"
   ]
  },
  {
   "cell_type": "code",
   "execution_count": 2,
   "metadata": {},
   "outputs": [],
   "source": [
    "# create db\n",
    "conn = sql.connect('elections.db')"
   ]
  },
  {
   "cell_type": "code",
   "execution_count": 3,
   "metadata": {},
   "outputs": [
    {
     "name": "stdout",
     "output_type": "stream",
     "text": [
      "[(0, 'W07000049', 'Lab hold', 'lab', 'con', 50750, 31598, 82, 10490, 6518, 17008, 1072, 3108, 450, 0, 2711, 0, 0, 0, 0, 0, 731, 0), (1, 'W07000058', 'Con hold', 'con', 'lab', 44699, 31865, 123, 2034, 14687, 12653, 1821, 0, 0, 0, 2704, 0, 0, 0, 0, 0, 0, 0), (2, 'S14000001', 'SNP hold', 'snp', 'con', 62489, 37413, 72, 12670, 7535, 4939, 2846, 1008, 880, 20205, 0, 0, 0, 0, 0, 0, 0, 0), (3, 'S14000002', 'SNP gain from Con', 'snp', 'con', 65719, 45638, 131, 3990, 16398, 3834, 5018, 0, 0, 20388, 0, 0, 0, 0, 0, 0, 0, 0)]\n"
     ]
    }
   ],
   "source": [
    "# Select all from database\n",
    "query = \"SELECT * FROM elections\"\n",
    "cur = conn.execute(query)\n",
    "rows = cur.fetchall()\n",
    "print(rows[0:4])"
   ]
  },
  {
   "cell_type": "code",
   "execution_count": 4,
   "metadata": {},
   "outputs": [
    {
     "name": "stdout",
     "output_type": "stream",
     "text": [
      "[('lab',), ('con',), ('snp',), ('snp',)]\n"
     ]
    }
   ],
   "source": [
    "query = \"\"\"\n",
    "    SELECT first_party \n",
    "    FROM elections\n",
    "\"\"\"\n",
    "cur = conn.execute(query)\n",
    "rows = cur.fetchall()\n",
    "print(rows[0:4])"
   ]
  },
  {
   "cell_type": "code",
   "execution_count": 5,
   "metadata": {},
   "outputs": [
    {
     "data": {
      "text/plain": [
       "[('lab',),\n",
       " ('con',),\n",
       " ('snp',),\n",
       " ('pc',),\n",
       " ('ld',),\n",
       " ('dup',),\n",
       " ('sf',),\n",
       " ('sdlp',),\n",
       " ('green',),\n",
       " ('spk',),\n",
       " ('alliance',)]"
      ]
     },
     "execution_count": 5,
     "metadata": {},
     "output_type": "execute_result"
    }
   ],
   "source": [
    "query = \"\"\"\n",
    "    SELECT DISTINCT first_party \n",
    "    FROM elections\n",
    "\"\"\"\n",
    "cur = conn.execute(query)\n",
    "rows = cur.fetchall()\n",
    "partiesdb = rows\n",
    "partiesdb\n"
   ]
  },
  {
   "cell_type": "code",
   "execution_count": 6,
   "metadata": {},
   "outputs": [
    {
     "data": {
      "text/plain": [
       "0"
      ]
     },
     "execution_count": 6,
     "metadata": {},
     "output_type": "execute_result"
    }
   ],
   "source": [
    "query = \"\"\"\n",
    "    SELECT first_party \n",
    "    FROM elections\n",
    "    WHERE first_party == 'Lab'\n",
    "\"\"\"\n",
    "cur = conn.execute(query)\n",
    "rows = cur.fetchall()\n",
    "labWinsdb=len(rows)\n",
    "labWinsdb"
   ]
  },
  {
   "cell_type": "code",
   "execution_count": 7,
   "metadata": {},
   "outputs": [
    {
     "name": "stdout",
     "output_type": "stream",
     "text": [
      "[('lab',), ('con',), ('snp',), ('pc',), ('ld',), ('dup',), ('sf',), ('sdlp',), ('green',), ('spk',), ('alliance',)]\n"
     ]
    },
    {
     "data": {
      "text/plain": [
       "[202, 365, 48, 4, 11, 8, 7, 2, 1, 1, 1]"
      ]
     },
     "execution_count": 7,
     "metadata": {},
     "output_type": "execute_result"
    }
   ],
   "source": [
    "partyWinsdb = []\n",
    "for i in partiesdb:\n",
    "    query = f\"\"\"\n",
    "        SELECT * \n",
    "        FROM elections\n",
    "        WHERE first_party = '{i[0]}'\n",
    "    \"\"\"\n",
    "    cur = conn.execute(query)\n",
    "    rows = cur.fetchall()\n",
    "    partyWinsdb.append(len(rows))\n",
    "\n",
    "print(partiesdb)\n",
    "partyWinsdb\n",
    "    "
   ]
  },
  {
   "cell_type": "code",
   "execution_count": 8,
   "metadata": {},
   "outputs": [
    {
     "name": "stdout",
     "output_type": "stream",
     "text": [
      "[('lab',), ('con',), ('snp',), ('pc',), ('ld',), ('dup',), ('sf',), ('sdlp',), ('green',), ('spk',), ('alliance',)]\n"
     ]
    },
    {
     "data": {
      "text/plain": [
       "[202, 365, 48, 4, 11, 8, 7, 2, 1, 1, 1]"
      ]
     },
     "execution_count": 8,
     "metadata": {},
     "output_type": "execute_result"
    }
   ],
   "source": [
    "def getWins(i):\n",
    "    query = f\"\"\"\n",
    "        SELECT * \n",
    "        FROM elections\n",
    "        WHERE first_party = '{i[0]}'\n",
    "    \"\"\"\n",
    "    cur = conn.execute(query)\n",
    "    rows = cur.fetchall()\n",
    "    return(len(rows))\n",
    "\n",
    "partyWinsdb = [ getWins(i) for i in partiesdb]\n",
    "    \n",
    "\n",
    "print(partiesdb)\n",
    "partyWinsdb"
   ]
  },
  {
   "cell_type": "code",
   "execution_count": 9,
   "metadata": {},
   "outputs": [],
   "source": [
    "import matplotlib\n",
    "matplotlib.rcParams['figure.facecolor'] = 'white'"
   ]
  },
  {
   "cell_type": "code",
   "execution_count": 10,
   "metadata": {},
   "outputs": [
    {
     "data": {
      "text/plain": [
       "<AxesSubplot:title={'center':'Seat allocation per party'}>"
      ]
     },
     "execution_count": 10,
     "metadata": {},
     "output_type": "execute_result"
    },
    {
     "data": {
      "image/png": "[encoded data removed]",
      "text/plain": [
       "<Figure size 432x288 with 1 Axes>"
      ]
     },
     "metadata": {
      "needs_background": "light"
     },
     "output_type": "display_data"
    }
   ],
   "source": [
    "import pandas as pd\n",
    "dfdb = pd.DataFrame(partyWinsdb,partiesdb)\n",
    "dfdb.plot.bar(legend=False, title='Seat allocation per party')"
   ]
  },
  {
   "cell_type": "code",
   "execution_count": 11,
   "metadata": {},
   "outputs": [
    {
     "name": "stdout",
     "output_type": "stream",
     "text": [
      "[('lab',), ('con',), ('snp',), ('pc',), ('ld',), ('dup',), ('sf',), ('sdlp',), ('green',), ('alliance',)]\n",
      "[202, 365, 48, 4, 11, 8, 7, 2, 1, 1]\n"
     ]
    },
    {
     "data": {
      "text/plain": [
       "32014110"
      ]
     },
     "execution_count": 11,
     "metadata": {},
     "output_type": "execute_result"
    }
   ],
   "source": [
    "# Remove speaker from party list and wins list\n",
    "partiesdb.pop(9)\n",
    "print(partiesdb)\n",
    "partyWinsdb.pop(9)\n",
    "print(partyWinsdb)\n",
    "\n",
    "query = \"\"\"\n",
    "    SELECT SUM(valid_votes)\n",
    "    FROM elections\n",
    "\"\"\"\n",
    "cur = conn.execute(query)\n",
    "rows = cur.fetchall()\n",
    "total_votes = rows[0][0]\n",
    "total_votes"
   ]
  },
  {
   "cell_type": "code",
   "execution_count": 23,
   "metadata": {},
   "outputs": [],
   "source": [
    "def getVotes(i):\n",
    "    query = f\"\"\"\n",
    "        SELECT SUM({i[0]})\n",
    "        FROM elections\n",
    "    \"\"\"\n",
    "    cur = conn.execute(query)\n",
    "    rows = cur.fetchall()\n",
    "    return rows[0][0]\n",
    "\n",
    "total_votes_party = [ getVotes(i) for i in partiesdb]"
   ]
  },
  {
   "cell_type": "code",
   "execution_count": 22,
   "metadata": {},
   "outputs": [
    {
     "data": {
      "text/plain": [
       "[10269051,\n",
       " 13966454,\n",
       " 1242380,\n",
       " 153265,\n",
       " 3696419,\n",
       " 244128,\n",
       " 181853,\n",
       " 118737,\n",
       " 865715,\n",
       " 134115]"
      ]
     },
     "execution_count": 22,
     "metadata": {},
     "output_type": "execute_result"
    }
   ],
   "source": [
    "total_votes_party"
   ]
  },
  {
   "cell_type": "code",
   "execution_count": 13,
   "metadata": {},
   "outputs": [],
   "source": [
    "#conn.close()"
   ]
  }
 ],
 "metadata": {
  "interpreter": {
   "hash": "ebf8d43d3d173dc48345ffb6b59ad16b10ee255e28de3a129e6f6400e8327d9f"
  },
  "kernelspec": {
   "display_name": "Python 3.9.7 64-bit ('base': conda)",
   "language": "python",
   "name": "python3"
  },
  "language_info": {
   "codemirror_mode": {
    "name": "ipython",
    "version": 3
   },
   "file_extension": ".py",
   "mimetype": "text/x-python",
   "name": "python",
   "nbconvert_exporter": "python",
   "pygments_lexer": "ipython3",
   "version": "3.9.8"
  },
  "orig_nbformat": 4
 },
 "nbformat": 4,
 "nbformat_minor": 2
}
